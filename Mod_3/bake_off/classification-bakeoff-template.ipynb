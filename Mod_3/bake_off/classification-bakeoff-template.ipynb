{
 "cells": [
  {
   "cell_type": "markdown",
   "metadata": {},
   "source": [
    "# Applying Classification Modeling\n",
    "The goal of this week's assessment is to find the model which best predicts whether or not a person will default on their bank loan. In doing so, we want to utilize all of the different tools we have learned over the course: data cleaning, EDA, feature engineering/transformation, feature selection, hyperparameter tuning, and model evaluation. \n",
    "\n",
    "\n",
    "#### Data Set Information:\n",
    "\n",
    "This research aimed at the case of customers default payments in Taiwan and compares the predictive accuracy of probability of default among six data mining methods. From the perspective of risk management, the result of predictive accuracy of the estimated probability of default will be more valuable than the binary result of classification - credible or not credible clients. Because the real probability of default is unknown, this study presented the novel Sorting Smoothing Method to estimate the real probability of default. With the real probability of default as the response variable (Y), and the predictive probability of default as the independent variable (X), the simple linear regression result (Y = A + BX) shows that the forecasting model produced by artificial neural network has the highest coefficient of determination; its regression intercept (A) is close to zero, and regression coefficient (B) to one. Therefore, among the six data mining techniques, artificial neural network is the only one that can accurately estimate the real probability of default. \n",
    "\n",
    "- NT is the abbreviation for New Taiwain. \n",
    "\n",
    "\n",
    "#### Attribute Information:\n",
    "\n",
    "This research employed a binary variable, default payment (Yes = 1, No = 0), as the response variable. This study reviewed the literature and used the following 23 variables as explanatory variables: \n",
    "- X1: Amount of the given credit (NT dollar): it includes both the individual consumer credit and his/her family (supplementary) credit. \n",
    "- X2: Gender (1 = male; 2 = female). \n",
    "- X3: Education (1 = graduate school; 2 = university; 3 = high school; 4 = others). \n",
    "- X4: Marital status (1 = married; 2 = single; 3 = others). \n",
    "- X5: Age (year). \n",
    "- X6 - X11: History of past payment. We tracked the past monthly payment records (from April to September, 2005) as follows: \n",
    "    - X6 = the repayment status in September, 2005; \n",
    "    - X7 = the repayment status in August, 2005; . . .;\n",
    "    - etc...\n",
    "    - X11 = the repayment status in April, 2005. \n",
    "    - The measurement scale for the repayment status is: -1 = pay duly; 1 = payment delay for one month; 2 = payment delay for two months; . . .; 8 = payment delay for eight months; 9 = payment delay for nine months and above. \n",
    "- X12-X17: Amount of bill statement (NT dollar). \n",
    "    - X12 = amount of bill statement in September, 2005;\n",
    "    - etc...\n",
    "    - X13 = amount of bill statement in August, 2005; . . .; \n",
    "    - X17 = amount of bill statement in April, 2005. \n",
    "- X18-X23: Amount of previous payment (NT dollar). \n",
    "    - X18 = amount paid in September, 2005; \n",
    "    - X19 = amount paid in August, 2005; . . .;\n",
    "    - etc...\n",
    "    - X23 = amount paid in April, 2005. \n",
    "\n",
    "\n",
    "\n",
    "\n",
    "You will fit three different models (KNN, Logistic Regression, and Decision Tree Classifier) to predict credit card defaults and use gridsearch to find the best hyperparameters for those models. Then you will compare the performance of those three models on a test set to find the best one.  \n"
   ]
  },
  {
   "cell_type": "markdown",
   "metadata": {},
   "source": [
    "## Process/Expectations\n",
    "\n",
    "- You will be working in pairs for this assessment\n",
    "\n",
    "### Please have ONE notebook and be prepared to explain how you worked in your pair.\n",
    "\n",
    "1. Clean up your data set so that you can perform an EDA. \n",
    "    - This includes handling null values, categorical variables, removing unimportant columns, and removing outliers.\n",
    "2. Perform EDA to identify opportunities to create new features.\n",
    "    - [Great Example of EDA for classification](https://www.kaggle.com/stephaniestallworth/titanic-eda-classification-end-to-end) \n",
    "    - [Using Pairplots with Classification](https://towardsdatascience.com/visualizing-data-with-pair-plots-in-python-f228cf529166)\n",
    "3. Engineer new features. \n",
    "    - Create polynomial and/or interaction features. \n",
    "    - Additionaly, you must also create **at least 2 new features** that are not interactions or polynomial transformations. \n",
    "        - *For example, you can create a new dummy variable that based on the value of a continuous variable (billamount6 >2000) or take the average of some past amounts.*\n",
    "4. Perform some feature selection. \n",
    "    \n",
    "5. You must fit **three** models to your data and tune **at least 1 hyperparameter** per model. \n",
    "6. Using the F-1 Score, evaluate how well your models perform and identify your best model.\n",
    "7. Using information from your EDA process and your model(s) output provide insight as to which borrowers are more likely to deafult\n"
   ]
  },
  {
   "cell_type": "code",
   "execution_count": 1,
   "metadata": {},
   "outputs": [],
   "source": [
    "# import libraries\n",
    "\n",
    "import pandas as pd\n",
    "import numpy as np\n"
   ]
  },
  {
   "cell_type": "markdown",
   "metadata": {},
   "source": [
    "## 1. Data Cleaning"
   ]
  },
  {
   "cell_type": "code",
   "execution_count": 2,
   "metadata": {},
   "outputs": [],
   "source": [
    "df = pd.read_csv('training_data.csv', index_col=0)"
   ]
  },
  {
   "cell_type": "code",
   "execution_count": 3,
   "metadata": {
    "scrolled": true
   },
   "outputs": [
    {
     "data": {
      "text/plain": [
       "0                             17471\n",
       "1                              5028\n",
       "default payment next month        1\n",
       "Name: Y, dtype: int64"
      ]
     },
     "execution_count": 3,
     "metadata": {},
     "output_type": "execute_result"
    }
   ],
   "source": [
    "df.Y.value_counts()"
   ]
  },
  {
   "cell_type": "code",
   "execution_count": 4,
   "metadata": {},
   "outputs": [],
   "source": [
    "from sklearn.model_selection import train_test_split"
   ]
  },
  {
   "cell_type": "code",
   "execution_count": 5,
   "metadata": {},
   "outputs": [],
   "source": [
    "# Split data to be used in the models\n",
    "# Create matrix of features\n",
    "X = df.drop('Y', axis = 1) # grabs everything else but 'Survived'\n",
    "\n",
    "\n",
    "# Create target variable\n",
    "y = df['Y'] # y is the column we're trying to predict"
   ]
  },
  {
   "cell_type": "code",
   "execution_count": 6,
   "metadata": {
    "scrolled": true
   },
   "outputs": [
    {
     "data": {
      "text/plain": [
       "Index(['1', '10', '100', '1000', '10001', '10003', '10004', '10005', '10007',\n",
       "       '10009',\n",
       "       ...\n",
       "       '9982', '9985', '9986', '9988', '9990', '9992', '9995', '9997', '9999',\n",
       "       'ID'],\n",
       "      dtype='object', length=22500)"
      ]
     },
     "execution_count": 6,
     "metadata": {},
     "output_type": "execute_result"
    }
   ],
   "source": [
    "df.index.sort_values()"
   ]
  },
  {
   "cell_type": "code",
   "execution_count": 7,
   "metadata": {},
   "outputs": [],
   "source": [
    "df.columns = df.loc['ID']"
   ]
  },
  {
   "cell_type": "code",
   "execution_count": 8,
   "metadata": {},
   "outputs": [
    {
     "data": {
      "text/plain": [
       "Index(['LIMIT_BAL', 'SEX', 'EDUCATION', 'MARRIAGE', 'AGE', 'PAY_0', 'PAY_2',\n",
       "       'PAY_3', 'PAY_4', 'PAY_5', 'PAY_6', 'BILL_AMT1', 'BILL_AMT2',\n",
       "       'BILL_AMT3', 'BILL_AMT4', 'BILL_AMT5', 'BILL_AMT6', 'PAY_AMT1',\n",
       "       'PAY_AMT2', 'PAY_AMT3', 'PAY_AMT4', 'PAY_AMT5', 'PAY_AMT6',\n",
       "       'default payment next month'],\n",
       "      dtype='object', name='ID')"
      ]
     },
     "execution_count": 8,
     "metadata": {},
     "output_type": "execute_result"
    }
   ],
   "source": [
    "df.columns"
   ]
  },
  {
   "cell_type": "code",
   "execution_count": 9,
   "metadata": {},
   "outputs": [],
   "source": [
    "df= df[df['SEX'] != 'SEX']"
   ]
  },
  {
   "cell_type": "code",
   "execution_count": 10,
   "metadata": {},
   "outputs": [],
   "source": [
    "gender_opts= [1, 2]\n",
    "Education_opts= [1 , 2, 3, 4]\n",
    "Marital_opts= [1,2,3]\n",
    "Pay_opts=[-1,1,2,3,4,5,6,7,8,9]"
   ]
  },
  {
   "cell_type": "code",
   "execution_count": 31,
   "metadata": {
    "scrolled": true
   },
   "outputs": [
    {
     "name": "stdout",
     "output_type": "stream",
     "text": [
      "50000      2534\n",
      "20000      1488\n",
      "30000      1223\n",
      "80000      1210\n",
      "200000     1134\n",
      "           ... \n",
      "327680        1\n",
      "1000000       1\n",
      "690000        1\n",
      "740000        1\n",
      "800000        1\n",
      "Name: LIMIT_BAL, Length: 80, dtype: int64\n",
      "2    13572\n",
      "1     8927\n",
      "Name: SEX, dtype: int64\n",
      "2    10516\n",
      "1     7919\n",
      "3     3713\n",
      "4      351\n",
      "Name: EDUCATION, dtype: int64\n",
      "2    12026\n",
      "1    10195\n",
      "3      278\n",
      "Name: MARRIAGE, dtype: int64\n",
      "29    1243\n",
      "27    1100\n",
      "28    1064\n",
      "30    1026\n",
      "26     959\n",
      "25     904\n",
      "31     902\n",
      "32     878\n",
      "33     874\n",
      "34     859\n",
      "24     851\n",
      "35     841\n",
      "36     812\n",
      "37     799\n",
      "38     720\n",
      "39     703\n",
      "23     690\n",
      "40     656\n",
      "41     613\n",
      "42     597\n",
      "44     512\n",
      "43     495\n",
      "45     462\n",
      "46     421\n",
      "22     420\n",
      "47     340\n",
      "48     339\n",
      "49     326\n",
      "50     298\n",
      "51     269\n",
      "53     241\n",
      "52     236\n",
      "54     184\n",
      "55     154\n",
      "56     147\n",
      "58      89\n",
      "57      89\n",
      "59      62\n",
      "60      56\n",
      "21      56\n",
      "61      45\n",
      "62      32\n",
      "64      24\n",
      "63      24\n",
      "66      21\n",
      "65      17\n",
      "67      13\n",
      "69      10\n",
      "70      10\n",
      "68       5\n",
      "72       3\n",
      "73       3\n",
      "75       2\n",
      "71       2\n",
      "74       1\n",
      "Name: AGE, dtype: int64\n",
      "0     11057\n",
      "-1     4272\n",
      "1      2750\n",
      "-2     2048\n",
      "2      2032\n",
      "3       239\n",
      "4        51\n",
      "5        20\n",
      "8        15\n",
      "6         9\n",
      "7         6\n",
      "Name: PAY_0, dtype: int64\n",
      "0     11804\n",
      "-1     4526\n",
      "2      2967\n",
      "-2     2813\n",
      "3       251\n",
      "4        70\n",
      "1        24\n",
      "5        19\n",
      "7        16\n",
      "6         8\n",
      "8         1\n",
      "Name: PAY_2, dtype: int64\n",
      "0     11823\n",
      "-1     4464\n",
      "-2     3024\n",
      "2      2891\n",
      "3       177\n",
      "4        58\n",
      "7        22\n",
      "6        19\n",
      "5        15\n",
      "1         4\n",
      "8         2\n",
      "Name: PAY_3, dtype: int64\n",
      "0     12330\n",
      "-1     4281\n",
      "-2     3227\n",
      "2      2390\n",
      "3       138\n",
      "4        49\n",
      "7        47\n",
      "5        28\n",
      "6         5\n",
      "1         2\n",
      "8         2\n",
      "Name: PAY_4, dtype: int64\n",
      "0     12706\n",
      "-1     4124\n",
      "-2     3401\n",
      "2      2014\n",
      "3       128\n",
      "4        59\n",
      "7        47\n",
      "5        16\n",
      "6         3\n",
      "8         1\n",
      "Name: PAY_5, dtype: int64\n",
      "0     12233\n",
      "-1     4284\n",
      "-2     3663\n",
      "2      2078\n",
      "3       140\n",
      "7        38\n",
      "4        38\n",
      "6        14\n",
      "5         9\n",
      "8         2\n",
      "Name: PAY_6, dtype: int64\n",
      "0         1492\n",
      "390        182\n",
      "326         59\n",
      "780         52\n",
      "316         49\n",
      "          ... \n",
      "68248        1\n",
      "234205       1\n",
      "564757       1\n",
      "258764       1\n",
      "1054         1\n",
      "Name: BILL_AMT1, Length: 17664, dtype: int64\n",
      "0         1849\n",
      "390        172\n",
      "780         60\n",
      "326         60\n",
      "316         59\n",
      "          ... \n",
      "708          1\n",
      "132730       1\n",
      "185399       1\n",
      "10188        1\n",
      "1054         1\n",
      "Name: BILL_AMT2, Length: 17340, dtype: int64\n",
      "0         2129\n",
      "390        212\n",
      "326         53\n",
      "316         51\n",
      "780         50\n",
      "          ... \n",
      "10           1\n",
      "112393       1\n",
      "8753         1\n",
      "20465        1\n",
      "1054         1\n",
      "Name: BILL_AMT3, Length: 17115, dtype: int64\n",
      "0         2390\n",
      "390        179\n",
      "780         66\n",
      "316         54\n",
      "326         48\n",
      "          ... \n",
      "94552        1\n",
      "186140       1\n",
      "2907         1\n",
      "19315        1\n",
      "1054         1\n",
      "Name: BILL_AMT4, Length: 16767, dtype: int64\n",
      "0        2594\n",
      "390       182\n",
      "780        74\n",
      "316        65\n",
      "326        48\n",
      "         ... \n",
      "2907        1\n",
      "-2292       1\n",
      "59612       1\n",
      "40157       1\n",
      "1054        1\n",
      "Name: BILL_AMT5, Length: 16325, dtype: int64\n",
      "0        3000\n",
      "390       160\n",
      "780        68\n",
      "316        63\n",
      "150        59\n",
      "         ... \n",
      "9800        1\n",
      "6177        1\n",
      "61104       1\n",
      "16540       1\n",
      "1054        1\n",
      "Name: BILL_AMT6, Length: 16092, dtype: int64\n",
      "0        3905\n",
      "2000     1012\n",
      "3000      682\n",
      "5000      539\n",
      "1500      394\n",
      "         ... \n",
      "7868        1\n",
      "4145        1\n",
      "4753        1\n",
      "43018       1\n",
      "7520        1\n",
      "Name: PAY_AMT1, Length: 6630, dtype: int64\n",
      "0        4036\n",
      "2000      982\n",
      "3000      640\n",
      "5000      542\n",
      "1000      438\n",
      "         ... \n",
      "46012       1\n",
      "554         1\n",
      "5187        1\n",
      "3763        1\n",
      "12131       1\n",
      "Name: PAY_AMT2, Length: 6568, dtype: int64\n",
      "0        4440\n",
      "2000      977\n",
      "1000      838\n",
      "3000      634\n",
      "5000      541\n",
      "         ... \n",
      "11380       1\n",
      "35955       1\n",
      "13788       1\n",
      "5671        1\n",
      "19780       1\n",
      "Name: PAY_AMT3, Length: 6257, dtype: int64\n",
      "0        4840\n",
      "1000     1077\n",
      "2000      910\n",
      "3000      661\n",
      "5000      603\n",
      "         ... \n",
      "36918       1\n",
      "12121       1\n",
      "6315        1\n",
      "8343        1\n",
      "1810        1\n",
      "Name: PAY_AMT4, Length: 5756, dtype: int64\n",
      "0        5015\n",
      "1000     1012\n",
      "2000      974\n",
      "3000      700\n",
      "5000      612\n",
      "         ... \n",
      "4948        1\n",
      "11845       1\n",
      "1943        1\n",
      "4315        1\n",
      "10593       1\n",
      "Name: PAY_AMT5, Length: 5749, dtype: int64\n",
      "0        5418\n",
      "1000      974\n",
      "2000      958\n",
      "3000      685\n",
      "5000      607\n",
      "         ... \n",
      "12023       1\n",
      "28979       1\n",
      "11436       1\n",
      "1766        1\n",
      "1589        1\n",
      "Name: PAY_AMT6, Length: 5788, dtype: int64\n",
      "0    17471\n",
      "1     5028\n",
      "Name: default payment next month, dtype: int64\n"
     ]
    }
   ],
   "source": [
    "for column in df.columns:\n",
    "    print (df[column].value_counts())"
   ]
  },
  {
   "cell_type": "code",
   "execution_count": 29,
   "metadata": {},
   "outputs": [],
   "source": [
    "df['EDUCATION']= df['EDUCATION'].map(lambda x: int(x))\n",
    "df['MARRIAGE']= df['MARRIAGE'].map(lambda x: int(x))"
   ]
  },
  {
   "cell_type": "code",
   "execution_count": 26,
   "metadata": {},
   "outputs": [],
   "source": [
    "df['EDUCATION']= np.where(df['EDUCATION'] > 4, 4, df['EDUCATION'])\n",
    "df['EDUCATION']= np.where(df['EDUCATION'] < 1, 4, df['EDUCATION'])"
   ]
  },
  {
   "cell_type": "code",
   "execution_count": 30,
   "metadata": {},
   "outputs": [],
   "source": [
    "df['MARRIAGE']= np.where(df['MARRIAGE'] > 3, 3, df['MARRIAGE'])\n",
    "df['MARRIAGE']= np.where(df['MARRIAGE'] < 1, 3, df['MARRIAGE'])"
   ]
  },
  {
   "cell_type": "code",
   "execution_count": 34,
   "metadata": {
    "scrolled": true
   },
   "outputs": [
    {
     "data": {
      "text/plain": [
       "22499"
      ]
     },
     "execution_count": 34,
     "metadata": {},
     "output_type": "execute_result"
    }
   ],
   "source": [
    "len(df['PAY_0'])"
   ]
  },
  {
   "cell_type": "code",
   "execution_count": 36,
   "metadata": {},
   "outputs": [
    {
     "data": {
      "text/plain": [
       "1602"
      ]
     },
     "execution_count": 36,
     "metadata": {},
     "output_type": "execute_result"
    }
   ],
   "source": [
    "np.where(df['BILL_AMT1'] == df['PAY_AMT1'], True, False).sum()"
   ]
  },
  {
   "cell_type": "code",
   "execution_count": 38,
   "metadata": {},
   "outputs": [
    {
     "data": {
      "text/plain": [
       "4835"
      ]
     },
     "execution_count": 38,
     "metadata": {},
     "output_type": "execute_result"
    }
   ],
   "source": [
    "len(df['PAY_0'])-17664"
   ]
  },
  {
   "cell_type": "code",
   "execution_count": null,
   "metadata": {},
   "outputs": [],
   "source": []
  },
  {
   "cell_type": "code",
   "execution_count": null,
   "metadata": {},
   "outputs": [],
   "source": []
  },
  {
   "cell_type": "markdown",
   "metadata": {},
   "source": [
    "## 2. EDA"
   ]
  },
  {
   "cell_type": "code",
   "execution_count": null,
   "metadata": {},
   "outputs": [],
   "source": []
  },
  {
   "cell_type": "code",
   "execution_count": null,
   "metadata": {},
   "outputs": [],
   "source": []
  },
  {
   "cell_type": "code",
   "execution_count": null,
   "metadata": {},
   "outputs": [],
   "source": []
  },
  {
   "cell_type": "code",
   "execution_count": null,
   "metadata": {},
   "outputs": [],
   "source": []
  },
  {
   "cell_type": "code",
   "execution_count": null,
   "metadata": {},
   "outputs": [],
   "source": []
  },
  {
   "cell_type": "code",
   "execution_count": null,
   "metadata": {},
   "outputs": [],
   "source": []
  },
  {
   "cell_type": "markdown",
   "metadata": {},
   "source": [
    "## 3. Feature Engineering"
   ]
  },
  {
   "cell_type": "code",
   "execution_count": null,
   "metadata": {},
   "outputs": [],
   "source": []
  },
  {
   "cell_type": "code",
   "execution_count": null,
   "metadata": {},
   "outputs": [],
   "source": []
  },
  {
   "cell_type": "code",
   "execution_count": null,
   "metadata": {},
   "outputs": [],
   "source": []
  },
  {
   "cell_type": "code",
   "execution_count": null,
   "metadata": {},
   "outputs": [],
   "source": []
  },
  {
   "cell_type": "code",
   "execution_count": null,
   "metadata": {},
   "outputs": [],
   "source": []
  },
  {
   "cell_type": "markdown",
   "metadata": {},
   "source": [
    "## 4. Feature Selection"
   ]
  },
  {
   "cell_type": "code",
   "execution_count": null,
   "metadata": {},
   "outputs": [],
   "source": []
  },
  {
   "cell_type": "code",
   "execution_count": null,
   "metadata": {},
   "outputs": [],
   "source": []
  },
  {
   "cell_type": "code",
   "execution_count": null,
   "metadata": {},
   "outputs": [],
   "source": []
  },
  {
   "cell_type": "code",
   "execution_count": null,
   "metadata": {},
   "outputs": [],
   "source": []
  },
  {
   "cell_type": "code",
   "execution_count": null,
   "metadata": {},
   "outputs": [],
   "source": []
  },
  {
   "cell_type": "markdown",
   "metadata": {},
   "source": [
    "## 5. Model Fitting and Hyperparameter Tuning\n",
    "KNN, Logistic Regression, Decision Tree"
   ]
  },
  {
   "cell_type": "code",
   "execution_count": null,
   "metadata": {},
   "outputs": [],
   "source": []
  },
  {
   "cell_type": "code",
   "execution_count": null,
   "metadata": {},
   "outputs": [],
   "source": []
  },
  {
   "cell_type": "code",
   "execution_count": null,
   "metadata": {},
   "outputs": [],
   "source": []
  },
  {
   "cell_type": "code",
   "execution_count": null,
   "metadata": {},
   "outputs": [],
   "source": []
  },
  {
   "cell_type": "code",
   "execution_count": null,
   "metadata": {},
   "outputs": [],
   "source": []
  },
  {
   "cell_type": "markdown",
   "metadata": {},
   "source": [
    "## 6. Model Evaluation"
   ]
  },
  {
   "cell_type": "code",
   "execution_count": null,
   "metadata": {},
   "outputs": [],
   "source": []
  },
  {
   "cell_type": "code",
   "execution_count": null,
   "metadata": {},
   "outputs": [],
   "source": []
  },
  {
   "cell_type": "code",
   "execution_count": null,
   "metadata": {},
   "outputs": [],
   "source": []
  },
  {
   "cell_type": "code",
   "execution_count": null,
   "metadata": {},
   "outputs": [],
   "source": []
  },
  {
   "cell_type": "code",
   "execution_count": null,
   "metadata": {},
   "outputs": [],
   "source": []
  },
  {
   "cell_type": "markdown",
   "metadata": {},
   "source": [
    "## 7. Final Model"
   ]
  },
  {
   "cell_type": "code",
   "execution_count": null,
   "metadata": {},
   "outputs": [],
   "source": []
  },
  {
   "cell_type": "code",
   "execution_count": null,
   "metadata": {},
   "outputs": [],
   "source": []
  }
 ],
 "metadata": {
  "hide_input": false,
  "kernelspec": {
   "display_name": "Python 3",
   "language": "python",
   "name": "python3"
  },
  "language_info": {
   "codemirror_mode": {
    "name": "ipython",
    "version": 3
   },
   "file_extension": ".py",
   "mimetype": "text/x-python",
   "name": "python",
   "nbconvert_exporter": "python",
   "pygments_lexer": "ipython3",
   "version": "3.7.6"
  },
  "toc": {
   "base_numbering": 1,
   "nav_menu": {},
   "number_sections": true,
   "sideBar": true,
   "skip_h1_title": false,
   "title_cell": "Table of Contents",
   "title_sidebar": "Contents",
   "toc_cell": false,
   "toc_position": {},
   "toc_section_display": true,
   "toc_window_display": false
  }
 },
 "nbformat": 4,
 "nbformat_minor": 2
}
