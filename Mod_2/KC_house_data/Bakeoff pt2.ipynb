{
 "cells": [
  {
   "cell_type": "code",
   "execution_count": 1,
   "metadata": {},
   "outputs": [],
   "source": [
    "import numpy as np \n",
    "import pandas as pd\n",
    "import seaborn as sns\n",
    "from datetime import datetime\n",
    "import matplotlib.pyplot as plt\n",
    "%matplotlib inline\n",
    "pd.set_option('display.max_columns', 100)"
   ]
  },
  {
   "cell_type": "code",
   "execution_count": 2,
   "metadata": {},
   "outputs": [],
   "source": [
    "df = pd.read_csv('kc_house_data_train.csv', index_col=0)"
   ]
  },
  {
   "cell_type": "code",
   "execution_count": 3,
   "metadata": {},
   "outputs": [
    {
     "name": "stdout",
     "output_type": "stream",
     "text": [
      "Index(['id', 'date', 'price', 'bedrooms', 'bathrooms', 'sqft_living',\n",
      "       'sqft_lot', 'floors', 'waterfront', 'view', 'condition', 'grade',\n",
      "       'sqft_above', 'sqft_basement', 'yr_built', 'yr_renovated', 'zipcode',\n",
      "       'lat', 'long', 'sqft_living15', 'sqft_lot15'],\n",
      "      dtype='object')\n"
     ]
    },
    {
     "data": {
      "text/plain": [
       "id                 int64\n",
       "date              object\n",
       "price            float64\n",
       "bedrooms           int64\n",
       "bathrooms        float64\n",
       "sqft_living        int64\n",
       "sqft_lot           int64\n",
       "floors           float64\n",
       "waterfront         int64\n",
       "view               int64\n",
       "condition          int64\n",
       "grade              int64\n",
       "sqft_above         int64\n",
       "sqft_basement      int64\n",
       "yr_built           int64\n",
       "yr_renovated       int64\n",
       "zipcode            int64\n",
       "lat              float64\n",
       "long             float64\n",
       "sqft_living15      int64\n",
       "sqft_lot15         int64\n",
       "dtype: object"
      ]
     },
     "execution_count": 3,
     "metadata": {},
     "output_type": "execute_result"
    }
   ],
   "source": [
    "column_names = df.columns\n",
    "print(column_names)\n",
    "df.dtypes"
   ]
  },
  {
   "cell_type": "code",
   "execution_count": 4,
   "metadata": {},
   "outputs": [],
   "source": [
    "#df.drop(columns= 'Unnamed: 0', inplace=True)"
   ]
  },
  {
   "cell_type": "code",
   "execution_count": 5,
   "metadata": {},
   "outputs": [
    {
     "data": {
      "text/plain": [
       "8597     33\n",
       "2356     11\n",
       "11181    10\n",
       "3680     10\n",
       "17114    10\n",
       "Name: bedrooms, dtype: int64"
      ]
     },
     "execution_count": 5,
     "metadata": {},
     "output_type": "execute_result"
    }
   ],
   "source": [
    "df.bedrooms.sort_values(ascending = False).head()"
   ]
  },
  {
   "cell_type": "code",
   "execution_count": 6,
   "metadata": {},
   "outputs": [],
   "source": [
    "df['bedrooms'] = np.where(df.bedrooms <= 10, 10, df.bedrooms)"
   ]
  },
  {
   "cell_type": "code",
   "execution_count": 7,
   "metadata": {},
   "outputs": [
    {
     "data": {
      "text/plain": [
       "0       16564\n",
       "2014       71\n",
       "2007       32\n",
       "2005       32\n",
       "2000       31\n",
       "        ...  \n",
       "1934        1\n",
       "1959        1\n",
       "1944        1\n",
       "1951        1\n",
       "1948        1\n",
       "Name: yr_renovated, Length: 69, dtype: int64"
      ]
     },
     "execution_count": 7,
     "metadata": {},
     "output_type": "execute_result"
    }
   ],
   "source": [
    "df['yr_renovated'].value_counts()"
   ]
  },
  {
   "cell_type": "code",
   "execution_count": 8,
   "metadata": {},
   "outputs": [],
   "source": [
    "df1= df[['date', 'price', 'bedrooms', 'bathrooms', 'sqft_living', 'waterfront', 'condition', 'zipcode', 'yr_built', 'yr_renovated', 'floors']]"
   ]
  },
  {
   "cell_type": "code",
   "execution_count": 9,
   "metadata": {},
   "outputs": [],
   "source": [
    "#df1= df[['price', 'bedrooms', 'bathrooms', 'sqft_living', 'waterfront', 'condition', 'zipcode', 'yr_built', 'yr_renovated', 'floors']]"
   ]
  },
  {
   "cell_type": "code",
   "execution_count": 10,
   "metadata": {
    "scrolled": true
   },
   "outputs": [
    {
     "name": "stderr",
     "output_type": "stream",
     "text": [
      "/Users/avidanberman/opt/anaconda3/lib/python3.7/site-packages/ipykernel_launcher.py:1: SettingWithCopyWarning: \n",
      "A value is trying to be set on a copy of a slice from a DataFrame.\n",
      "Try using .loc[row_indexer,col_indexer] = value instead\n",
      "\n",
      "See the caveats in the documentation: https://pandas.pydata.org/pandas-docs/stable/user_guide/indexing.html#returning-a-view-versus-a-copy\n",
      "  \"\"\"Entry point for launching an IPython kernel.\n"
     ]
    }
   ],
   "source": [
    "df1['date'] = pd.DatetimeIndex(df1['date']).year"
   ]
  },
  {
   "cell_type": "code",
   "execution_count": 11,
   "metadata": {
    "scrolled": true
   },
   "outputs": [
    {
     "name": "stderr",
     "output_type": "stream",
     "text": [
      "/Users/avidanberman/opt/anaconda3/lib/python3.7/site-packages/ipykernel_launcher.py:1: SettingWithCopyWarning: \n",
      "A value is trying to be set on a copy of a slice from a DataFrame.\n",
      "Try using .loc[row_indexer,col_indexer] = value instead\n",
      "\n",
      "See the caveats in the documentation: https://pandas.pydata.org/pandas-docs/stable/user_guide/indexing.html#returning-a-view-versus-a-copy\n",
      "  \"\"\"Entry point for launching an IPython kernel.\n"
     ]
    }
   ],
   "source": [
    "df1['year']= np.where(df1['yr_renovated']== 0, df1['yr_built'], df1['yr_renovated'])"
   ]
  },
  {
   "cell_type": "code",
   "execution_count": 12,
   "metadata": {},
   "outputs": [
    {
     "name": "stderr",
     "output_type": "stream",
     "text": [
      "/Users/avidanberman/opt/anaconda3/lib/python3.7/site-packages/ipykernel_launcher.py:1: SettingWithCopyWarning: \n",
      "A value is trying to be set on a copy of a slice from a DataFrame.\n",
      "Try using .loc[row_indexer,col_indexer] = value instead\n",
      "\n",
      "See the caveats in the documentation: https://pandas.pydata.org/pandas-docs/stable/user_guide/indexing.html#returning-a-view-versus-a-copy\n",
      "  \"\"\"Entry point for launching an IPython kernel.\n"
     ]
    }
   ],
   "source": [
    "df1['yearsold']= 2016 - df1['year']"
   ]
  },
  {
   "cell_type": "code",
   "execution_count": 13,
   "metadata": {},
   "outputs": [
    {
     "data": {
      "text/html": [
       "<div>\n",
       "<style scoped>\n",
       "    .dataframe tbody tr th:only-of-type {\n",
       "        vertical-align: middle;\n",
       "    }\n",
       "\n",
       "    .dataframe tbody tr th {\n",
       "        vertical-align: top;\n",
       "    }\n",
       "\n",
       "    .dataframe thead th {\n",
       "        text-align: right;\n",
       "    }\n",
       "</style>\n",
       "<table border=\"1\" class=\"dataframe\">\n",
       "  <thead>\n",
       "    <tr style=\"text-align: right;\">\n",
       "      <th></th>\n",
       "      <th>date</th>\n",
       "      <th>price</th>\n",
       "      <th>bedrooms</th>\n",
       "      <th>bathrooms</th>\n",
       "      <th>sqft_living</th>\n",
       "      <th>waterfront</th>\n",
       "      <th>condition</th>\n",
       "      <th>zipcode</th>\n",
       "      <th>yr_built</th>\n",
       "      <th>yr_renovated</th>\n",
       "      <th>floors</th>\n",
       "      <th>year</th>\n",
       "      <th>yearsold</th>\n",
       "    </tr>\n",
       "  </thead>\n",
       "  <tbody>\n",
       "    <tr>\n",
       "      <th>0</th>\n",
       "      <td>2014</td>\n",
       "      <td>365000.0</td>\n",
       "      <td>10</td>\n",
       "      <td>2.25</td>\n",
       "      <td>2070</td>\n",
       "      <td>0</td>\n",
       "      <td>4</td>\n",
       "      <td>98058</td>\n",
       "      <td>1986</td>\n",
       "      <td>0</td>\n",
       "      <td>2.0</td>\n",
       "      <td>1986</td>\n",
       "      <td>30</td>\n",
       "    </tr>\n",
       "    <tr>\n",
       "      <th>1</th>\n",
       "      <td>2014</td>\n",
       "      <td>865000.0</td>\n",
       "      <td>10</td>\n",
       "      <td>3.00</td>\n",
       "      <td>2900</td>\n",
       "      <td>0</td>\n",
       "      <td>5</td>\n",
       "      <td>98115</td>\n",
       "      <td>1977</td>\n",
       "      <td>0</td>\n",
       "      <td>1.0</td>\n",
       "      <td>1977</td>\n",
       "      <td>39</td>\n",
       "    </tr>\n",
       "    <tr>\n",
       "      <th>2</th>\n",
       "      <td>2014</td>\n",
       "      <td>1038000.0</td>\n",
       "      <td>10</td>\n",
       "      <td>2.50</td>\n",
       "      <td>3770</td>\n",
       "      <td>0</td>\n",
       "      <td>3</td>\n",
       "      <td>98006</td>\n",
       "      <td>1997</td>\n",
       "      <td>0</td>\n",
       "      <td>2.0</td>\n",
       "      <td>1997</td>\n",
       "      <td>19</td>\n",
       "    </tr>\n",
       "    <tr>\n",
       "      <th>3</th>\n",
       "      <td>2015</td>\n",
       "      <td>1490000.0</td>\n",
       "      <td>10</td>\n",
       "      <td>3.50</td>\n",
       "      <td>4560</td>\n",
       "      <td>0</td>\n",
       "      <td>3</td>\n",
       "      <td>98034</td>\n",
       "      <td>1990</td>\n",
       "      <td>0</td>\n",
       "      <td>2.0</td>\n",
       "      <td>1990</td>\n",
       "      <td>26</td>\n",
       "    </tr>\n",
       "    <tr>\n",
       "      <th>4</th>\n",
       "      <td>2014</td>\n",
       "      <td>711000.0</td>\n",
       "      <td>10</td>\n",
       "      <td>2.50</td>\n",
       "      <td>2550</td>\n",
       "      <td>0</td>\n",
       "      <td>3</td>\n",
       "      <td>98052</td>\n",
       "      <td>2004</td>\n",
       "      <td>0</td>\n",
       "      <td>2.0</td>\n",
       "      <td>2004</td>\n",
       "      <td>12</td>\n",
       "    </tr>\n",
       "    <tr>\n",
       "      <th>...</th>\n",
       "      <td>...</td>\n",
       "      <td>...</td>\n",
       "      <td>...</td>\n",
       "      <td>...</td>\n",
       "      <td>...</td>\n",
       "      <td>...</td>\n",
       "      <td>...</td>\n",
       "      <td>...</td>\n",
       "      <td>...</td>\n",
       "      <td>...</td>\n",
       "      <td>...</td>\n",
       "      <td>...</td>\n",
       "      <td>...</td>\n",
       "    </tr>\n",
       "    <tr>\n",
       "      <th>17285</th>\n",
       "      <td>2015</td>\n",
       "      <td>750000.0</td>\n",
       "      <td>10</td>\n",
       "      <td>2.50</td>\n",
       "      <td>3240</td>\n",
       "      <td>0</td>\n",
       "      <td>3</td>\n",
       "      <td>98008</td>\n",
       "      <td>1958</td>\n",
       "      <td>0</td>\n",
       "      <td>1.0</td>\n",
       "      <td>1958</td>\n",
       "      <td>58</td>\n",
       "    </tr>\n",
       "    <tr>\n",
       "      <th>17286</th>\n",
       "      <td>2014</td>\n",
       "      <td>440000.0</td>\n",
       "      <td>10</td>\n",
       "      <td>1.75</td>\n",
       "      <td>1300</td>\n",
       "      <td>0</td>\n",
       "      <td>3</td>\n",
       "      <td>98105</td>\n",
       "      <td>1948</td>\n",
       "      <td>0</td>\n",
       "      <td>2.0</td>\n",
       "      <td>1948</td>\n",
       "      <td>68</td>\n",
       "    </tr>\n",
       "    <tr>\n",
       "      <th>17287</th>\n",
       "      <td>2014</td>\n",
       "      <td>310000.0</td>\n",
       "      <td>10</td>\n",
       "      <td>1.00</td>\n",
       "      <td>1050</td>\n",
       "      <td>0</td>\n",
       "      <td>3</td>\n",
       "      <td>98028</td>\n",
       "      <td>1953</td>\n",
       "      <td>0</td>\n",
       "      <td>1.0</td>\n",
       "      <td>1953</td>\n",
       "      <td>63</td>\n",
       "    </tr>\n",
       "    <tr>\n",
       "      <th>17288</th>\n",
       "      <td>2014</td>\n",
       "      <td>427500.0</td>\n",
       "      <td>10</td>\n",
       "      <td>1.50</td>\n",
       "      <td>1900</td>\n",
       "      <td>0</td>\n",
       "      <td>4</td>\n",
       "      <td>98038</td>\n",
       "      <td>1971</td>\n",
       "      <td>0</td>\n",
       "      <td>1.5</td>\n",
       "      <td>1971</td>\n",
       "      <td>45</td>\n",
       "    </tr>\n",
       "    <tr>\n",
       "      <th>17289</th>\n",
       "      <td>2015</td>\n",
       "      <td>348000.0</td>\n",
       "      <td>10</td>\n",
       "      <td>1.50</td>\n",
       "      <td>1330</td>\n",
       "      <td>0</td>\n",
       "      <td>4</td>\n",
       "      <td>98155</td>\n",
       "      <td>1952</td>\n",
       "      <td>0</td>\n",
       "      <td>1.0</td>\n",
       "      <td>1952</td>\n",
       "      <td>64</td>\n",
       "    </tr>\n",
       "  </tbody>\n",
       "</table>\n",
       "<p>17290 rows × 13 columns</p>\n",
       "</div>"
      ],
      "text/plain": [
       "       date      price  bedrooms  bathrooms  sqft_living  waterfront  \\\n",
       "0      2014   365000.0        10       2.25         2070           0   \n",
       "1      2014   865000.0        10       3.00         2900           0   \n",
       "2      2014  1038000.0        10       2.50         3770           0   \n",
       "3      2015  1490000.0        10       3.50         4560           0   \n",
       "4      2014   711000.0        10       2.50         2550           0   \n",
       "...     ...        ...       ...        ...          ...         ...   \n",
       "17285  2015   750000.0        10       2.50         3240           0   \n",
       "17286  2014   440000.0        10       1.75         1300           0   \n",
       "17287  2014   310000.0        10       1.00         1050           0   \n",
       "17288  2014   427500.0        10       1.50         1900           0   \n",
       "17289  2015   348000.0        10       1.50         1330           0   \n",
       "\n",
       "       condition  zipcode  yr_built  yr_renovated  floors  year  yearsold  \n",
       "0              4    98058      1986             0     2.0  1986        30  \n",
       "1              5    98115      1977             0     1.0  1977        39  \n",
       "2              3    98006      1997             0     2.0  1997        19  \n",
       "3              3    98034      1990             0     2.0  1990        26  \n",
       "4              3    98052      2004             0     2.0  2004        12  \n",
       "...          ...      ...       ...           ...     ...   ...       ...  \n",
       "17285          3    98008      1958             0     1.0  1958        58  \n",
       "17286          3    98105      1948             0     2.0  1948        68  \n",
       "17287          3    98028      1953             0     1.0  1953        63  \n",
       "17288          4    98038      1971             0     1.5  1971        45  \n",
       "17289          4    98155      1952             0     1.0  1952        64  \n",
       "\n",
       "[17290 rows x 13 columns]"
      ]
     },
     "execution_count": 13,
     "metadata": {},
     "output_type": "execute_result"
    }
   ],
   "source": [
    "df1 "
   ]
  },
  {
   "cell_type": "code",
   "execution_count": 14,
   "metadata": {},
   "outputs": [],
   "source": [
    "df1 = pd.concat([df1, pd.get_dummies(df1['zipcode'])], 1)"
   ]
  },
  {
   "cell_type": "code",
   "execution_count": 15,
   "metadata": {},
   "outputs": [],
   "source": [
    "df1.drop(columns= ['yr_built','yr_renovated'], inplace= True)"
   ]
  },
  {
   "cell_type": "code",
   "execution_count": 16,
   "metadata": {},
   "outputs": [],
   "source": [
    "from sklearn import linear_model\n",
    "from sklearn.linear_model import LinearRegression\n",
    "from sklearn.model_selection import train_test_split\n",
    "from sklearn import metrics\n",
    "from sklearn.preprocessing import PolynomialFeatures\n",
    "from sklearn.preprocessing import StandardScaler"
   ]
  },
  {
   "cell_type": "code",
   "execution_count": 18,
   "metadata": {},
   "outputs": [],
   "source": [
    "target = df1['price']\n",
    "df_features= df1.drop(columns= ['price'])"
   ]
  },
  {
   "cell_type": "code",
   "execution_count": 19,
   "metadata": {},
   "outputs": [],
   "source": [
    "X_train, X_test, y_train, y_test = train_test_split(df_features, target, random_state=22,test_size=0.2)"
   ]
  },
  {
   "cell_type": "code",
   "execution_count": 21,
   "metadata": {},
   "outputs": [],
   "source": [
    "scaler2 = StandardScaler()\n",
    "# fit the scaler to the training data\n",
    "scaler2.fit(X_train)\n",
    "#transform the training data\n",
    "X_train = pd.DataFrame(data=scaler2.transform(X_train), columns=df_features.columns)\n",
    "#transform the testing dat\n",
    "X_test = pd.DataFrame(data=scaler2.transform(X_test), columns=df_features.columns)"
   ]
  },
  {
   "cell_type": "code",
   "execution_count": 22,
   "metadata": {},
   "outputs": [
    {
     "name": "stdout",
     "output_type": "stream",
     "text": [
      "Training Root Mean Squared Error: 178918.92766203824\n"
     ]
    }
   ],
   "source": [
    "lm_2 = LinearRegression()\n",
    "#fit the linear regression to the data\n",
    "lm_2 = lm_2.fit(X_train, y_train)\n",
    "y_train_pred = lm_2.predict(X_train)\n",
    "train_rmse = np.sqrt(metrics.mean_squared_error(y_train, y_train_pred))\n",
    "print('Training Root Mean Squared Error:' , train_rmse)"
   ]
  },
  {
   "cell_type": "code",
   "execution_count": 23,
   "metadata": {},
   "outputs": [
    {
     "name": "stdout",
     "output_type": "stream",
     "text": [
      "Testing Root Mean Squared Error: 180261.59918178656\n",
      "Training:  178918 vs. Testing:  180261\n"
     ]
    }
   ],
   "source": [
    "# use fitted model to predict on test data\n",
    "y_pred = lm_2.predict(X_test)\n",
    "test_rmse = np.sqrt(metrics.mean_squared_error(y_test, y_pred))\n",
    "print('Testing Root Mean Squared Error:' , test_rmse)\n",
    "print('Training: ', int(train_rmse), \"vs. Testing: \", int(test_rmse))"
   ]
  },
  {
   "cell_type": "code",
   "execution_count": 26,
   "metadata": {},
   "outputs": [
    {
     "data": {
      "text/plain": [
       "0.48084200975939445"
      ]
     },
     "execution_count": 26,
     "metadata": {},
     "output_type": "execute_result"
    }
   ],
   "source": [
    "test_rmse/y_train.std()"
   ]
  }
 ],
 "metadata": {
  "hide_input": false,
  "kernelspec": {
   "display_name": "Python 3",
   "language": "python",
   "name": "python3"
  },
  "language_info": {
   "codemirror_mode": {
    "name": "ipython",
    "version": 3
   },
   "file_extension": ".py",
   "mimetype": "text/x-python",
   "name": "python",
   "nbconvert_exporter": "python",
   "pygments_lexer": "ipython3",
   "version": "3.7.6"
  },
  "toc": {
   "base_numbering": 1,
   "nav_menu": {},
   "number_sections": true,
   "sideBar": true,
   "skip_h1_title": false,
   "title_cell": "Table of Contents",
   "title_sidebar": "Contents",
   "toc_cell": false,
   "toc_position": {},
   "toc_section_display": true,
   "toc_window_display": false
  }
 },
 "nbformat": 4,
 "nbformat_minor": 4
}
